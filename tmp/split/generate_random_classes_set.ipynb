{
 "cells": [
  {
   "cell_type": "code",
   "execution_count": 3,
   "metadata": {
    "collapsed": false
   },
   "outputs": [],
   "source": [
    "import numpy as np"
   ]
  },
  {
   "cell_type": "code",
   "execution_count": 10,
   "metadata": {
    "collapsed": false
   },
   "outputs": [],
   "source": [
    "NUM_ELEMENTS = 40000\n",
    "MIN_LABELS = 1\n",
    "MAX_LABELS = 10\n",
    "\n",
    "FROM_LABEL = 1\n",
    "TO_LABEL = 500"
   ]
  },
  {
   "cell_type": "code",
   "execution_count": 8,
   "metadata": {
    "collapsed": false
   },
   "outputs": [],
   "source": [
    "out = []\n",
    "for i in range(NUM_ELEMENTS):\n",
    "    outt = []\n",
    "    NUM_LABELS = np.random.randint(MIN_LABELS, MAX_LABELS + 1)\n",
    "    for ii in range(NUM_LABELS):\n",
    "        outt.append('{}:1'.format(np.random.randint(FROM_LABEL, TO_LABEL + 1)))\n",
    "    out.append(\" \".join(outt))\n",
    "np.random.shuffle(out)\n",
    "with open('cpp.fastxml.small.classes.txt', 'w') as f:\n",
    "    f.write(\"\\n\".join(out))"
   ]
  }
 ],
 "metadata": {
  "anaconda-cloud": {},
  "kernelspec": {
   "display_name": "Python [conda root]",
   "language": "python",
   "name": "conda-root-py"
  },
  "language_info": {
   "codemirror_mode": {
    "name": "ipython",
    "version": 3
   },
   "file_extension": ".py",
   "mimetype": "text/x-python",
   "name": "python",
   "nbconvert_exporter": "python",
   "pygments_lexer": "ipython3",
   "version": "3.5.2"
  }
 },
 "nbformat": 4,
 "nbformat_minor": 1
}
