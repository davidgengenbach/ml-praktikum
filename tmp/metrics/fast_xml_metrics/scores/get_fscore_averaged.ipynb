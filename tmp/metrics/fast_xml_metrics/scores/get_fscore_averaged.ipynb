{
 "cells": [
  {
   "cell_type": "code",
   "execution_count": 1,
   "metadata": {
    "collapsed": false
   },
   "outputs": [],
   "source": [
    "#!jupyter nbconvert --to script get_fscore_averaged.ipynb"
   ]
  },
  {
   "cell_type": "code",
   "execution_count": 8,
   "metadata": {
    "collapsed": false
   },
   "outputs": [],
   "source": [
    "import confusionmatrix as cmm\n",
    "import numpy as np\n",
    "from glob import glob\n",
    "import sys\n",
    "from time import time\n",
    "import pickle\n",
    "import os"
   ]
  },
  {
   "cell_type": "code",
   "execution_count": null,
   "metadata": {
    "collapsed": true
   },
   "outputs": [],
   "source": [
    "#if len(sys.argv) < 2:\n",
    "#    sys.exit(1)\n",
    "    \n",
    "#FILE = sys.argv[1]"
   ]
  },
  {
   "cell_type": "code",
   "execution_count": 3,
   "metadata": {
    "collapsed": true
   },
   "outputs": [],
   "source": [
    "def print_time(start_time, msg = ''):\n",
    "    print('Time: {:.4f} {}'.format(time() - start_time, msg))"
   ]
  },
  {
   "cell_type": "code",
   "execution_count": 33,
   "metadata": {
    "collapsed": false
   },
   "outputs": [],
   "source": [
    "def get_classes(file, num_elements = 1000, force_reload = False):\n",
    "    pickle_name = file + '.pickle'\n",
    "    if os.path.exists(pickle_name) and not force_reload:\n",
    "        with open(pickle_name, 'rb') as f:\n",
    "            return pickle.load(f)\n",
    "    else:\n",
    "        with open(file) as f:\n",
    "            next(f)\n",
    "            els= [[(int(y.split(':')[0]), float(y.split(':')[1])) for y in x.split(' ')] for x in f.read().split('\\n') if x.strip() != '']\n",
    "            return els if num_elements == None else els[0:num_elements]\n"
   ]
  },
  {
   "cell_type": "code",
   "execution_count": 36,
   "metadata": {
    "collapsed": false
   },
   "outputs": [],
   "source": [
    "def get_real_pred(filename, is_test):\n",
    "    test_str = 'test' if is_test else 'train'\n",
    "    PRED = filename.format(test_str)\n",
    "\n",
    "    NUM_ELEMENTS = None\n",
    "    pred_ = get_classes(PRED, NUM_ELEMENTS)\n",
    "    if isinstance(pred_, tuple):\n",
    "        return pred_\n",
    "    \n",
    "    for idx,pred in enumerate(pred_):\n",
    "        pred_[idx] = [x for x in pred]\n",
    "\n",
    "    real_ = get_classes('reference/classes.real.{}.txt'.format(test_str), NUM_ELEMENTS)\n",
    "    assert(len(real_) == len(pred_))\n",
    "\n",
    "    def get_classes_only(x):\n",
    "        return [[p[0] for p in y] for y in x]\n",
    "    vals = get_classes_only(pred_), get_classes_only(real_)\n",
    "    with open(PRED + '.pickle', 'wb') as f:\n",
    "        pickle.dump(vals, f)\n",
    "    return vals"
   ]
  },
  {
   "cell_type": "code",
   "execution_count": 6,
   "metadata": {
    "collapsed": true
   },
   "outputs": [],
   "source": [
    "def get_average(real_, pred_):\n",
    "    cm = cmm.ConfusionMatrix() \n",
    "    for gold, pred in list(zip(real_, pred_)):\n",
    "        cm.add(gold, pred)\n",
    "    return cm.averaged(level = cmm.MICRO, score=cmm.FSCORE)"
   ]
  },
  {
   "cell_type": "code",
   "execution_count": 1,
   "metadata": {
    "collapsed": false
   },
   "outputs": [
    {
     "ename": "NameError",
     "evalue": "name 'glob' is not defined",
     "output_type": "error",
     "traceback": [
      "\u001b[0;31m---------------------------------------------------------------------------\u001b[0m",
      "\u001b[0;31mNameError\u001b[0m                                 Traceback (most recent call last)",
      "\u001b[0;32m<ipython-input-1-f00f353432b6>\u001b[0m in \u001b[0;36m<module>\u001b[0;34m()\u001b[0m\n\u001b[0;32m----> 1\u001b[0;31m \u001b[0mall_files\u001b[0m \u001b[0;34m=\u001b[0m \u001b[0mset\u001b[0m\u001b[0;34m(\u001b[0m\u001b[0mglob\u001b[0m\u001b[0;34m(\u001b[0m\u001b[0;34m'../results/*_results.txt'\u001b[0m\u001b[0;34m)\u001b[0m\u001b[0;34m)\u001b[0m\u001b[0;34m\u001b[0m\u001b[0m\n\u001b[0m\u001b[1;32m      2\u001b[0m \u001b[0;34m\u001b[0m\u001b[0m\n\u001b[1;32m      3\u001b[0m \u001b[0mDONE\u001b[0m \u001b[0;34m=\u001b[0m \u001b[0;32mFalse\u001b[0m\u001b[0;34m\u001b[0m\u001b[0m\n\u001b[1;32m      4\u001b[0m \u001b[0;32mfor\u001b[0m \u001b[0mfilename\u001b[0m \u001b[0;32min\u001b[0m \u001b[0mall_files\u001b[0m\u001b[0;34m:\u001b[0m\u001b[0;34m\u001b[0m\u001b[0m\n\u001b[1;32m      5\u001b[0m     \u001b[0;32mif\u001b[0m \u001b[0mDONE\u001b[0m\u001b[0;34m:\u001b[0m\u001b[0;34m\u001b[0m\u001b[0m\n",
      "\u001b[0;31mNameError\u001b[0m: name 'glob' is not defined"
     ]
    }
   ],
   "source": [
    "all_files = set(glob('../results/*_results.txt'))\n",
    "\n",
    "DONE = False\n",
    "for filename in all_files:\n",
    "    if DONE:\n",
    "        continue\n",
    "    with open('../metrics.txt') as f:\n",
    "        if filename.split('/')[-1] in f.read():\n",
    "            continue\n",
    "    IS_TEST = filename.count('test_results') == 1\n",
    "    value = get_real_pred(filename, is_test = IS_TEST)\n",
    "    print('{} {}'.format(filename, get_average(*value)))\n",
    "    sys.stdout.flush()\n",
    "    os.rename(filename, filename.replace('results/', 'results/done/'))\n",
    "    DONE = True"
   ]
  },
  {
   "cell_type": "code",
   "execution_count": null,
   "metadata": {
    "collapsed": false
   },
   "outputs": [],
   "source": []
  }
 ],
 "metadata": {
  "anaconda-cloud": {},
  "kernelspec": {
   "display_name": "Python [conda root]",
   "language": "python",
   "name": "conda-root-py"
  },
  "language_info": {
   "codemirror_mode": {
    "name": "ipython",
    "version": 3
   },
   "file_extension": ".py",
   "mimetype": "text/x-python",
   "name": "python",
   "nbconvert_exporter": "python",
   "pygments_lexer": "ipython3",
   "version": "3.5.2"
  }
 },
 "nbformat": 4,
 "nbformat_minor": 1
}
