{
 "cells": [
  {
   "cell_type": "code",
   "execution_count": 1,
   "metadata": {
    "collapsed": true
   },
   "outputs": [],
   "source": [
    "import numpy as np"
   ]
  },
  {
   "cell_type": "code",
   "execution_count": 13,
   "metadata": {
    "collapsed": true
   },
   "outputs": [],
   "source": [
    "def get_lines_of_file(file, remove_empty = True):\n",
    "    with open(file) as f:\n",
    "        return [x.strip() for x in f.readlines() if remove_empty and x.strip() != '']\n",
    "\n",
    "def get_label_map(file = 'reference/dict.csv'):\n",
    "    return {x.split('\",\"')[0].replace('\"', '').strip(): x.split('\",\"')[1].replace('\"', '').strip()  for x in get_lines_of_file(file)}"
   ]
  },
  {
   "cell_type": "code",
   "execution_count": 17,
   "metadata": {
    "collapsed": false
   },
   "outputs": [],
   "source": [
    "labels = get_lines_of_file('reference/classes.sorted.txt')\n",
    "label_map = get_label_map()\n",
    "label_names = []\n",
    "for label in labels:\n",
    "    if label not in label_map:\n",
    "        print('Label not found: {}'.format(label))\n",
    "    label_names.append(label_map[label])\n",
    "\n",
    "with open('reference/classes.sorted.real_names.txt', 'w') as f:\n",
    "    f.write(\"\\n\".join(label_names))"
   ]
  }
 ],
 "metadata": {
  "kernelspec": {
   "display_name": "Python [conda root]",
   "language": "python",
   "name": "conda-root-py"
  },
  "language_info": {
   "codemirror_mode": {
    "name": "ipython",
    "version": 3
   },
   "file_extension": ".py",
   "mimetype": "text/x-python",
   "name": "python",
   "nbconvert_exporter": "python",
   "pygments_lexer": "ipython3",
   "version": "3.5.2"
  }
 },
 "nbformat": 4,
 "nbformat_minor": 1
}
